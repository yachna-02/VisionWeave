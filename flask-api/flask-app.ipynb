{
 "cells": [
  {
   "cell_type": "code",
   "execution_count": 1,
   "metadata": {},
   "outputs": [
    {
     "name": "stdout",
     "output_type": "stream",
     "text": [
      "Requirement already satisfied: Flask in /Library/Frameworks/Python.framework/Versions/3.9/lib/python3.9/site-packages (2.2.2)\n",
      "Requirement already satisfied: itsdangerous>=2.0 in /Library/Frameworks/Python.framework/Versions/3.9/lib/python3.9/site-packages (from Flask) (2.1.2)\n",
      "Requirement already satisfied: importlib-metadata>=3.6.0 in /Users/nimishsingh/Library/Python/3.9/lib/python/site-packages (from Flask) (7.1.0)\n",
      "Requirement already satisfied: click>=8.0 in /Library/Frameworks/Python.framework/Versions/3.9/lib/python3.9/site-packages (from Flask) (8.0.3)\n",
      "Requirement already satisfied: Werkzeug>=2.2.2 in /Library/Frameworks/Python.framework/Versions/3.9/lib/python3.9/site-packages (from Flask) (2.2.2)\n",
      "Requirement already satisfied: Jinja2>=3.0 in /Library/Frameworks/Python.framework/Versions/3.9/lib/python3.9/site-packages (from Flask) (3.1.2)\n",
      "Requirement already satisfied: zipp>=0.5 in /Users/nimishsingh/Library/Python/3.9/lib/python/site-packages (from importlib-metadata>=3.6.0->Flask) (3.18.1)\n",
      "Requirement already satisfied: MarkupSafe>=2.0 in /Library/Frameworks/Python.framework/Versions/3.9/lib/python3.9/site-packages (from Jinja2>=3.0->Flask) (2.1.1)\n",
      "\u001b[33mWARNING: You are using pip version 21.3.1; however, version 25.1.1 is available.\n",
      "You should consider upgrading via the '/Library/Frameworks/Python.framework/Versions/3.9/bin/python3 -m pip install --upgrade pip' command.\u001b[0m\n",
      "Collecting flask-cors\n",
      "  Downloading flask_cors-5.0.1-py3-none-any.whl (11 kB)\n",
      "Requirement already satisfied: Werkzeug>=0.7 in /Library/Frameworks/Python.framework/Versions/3.9/lib/python3.9/site-packages (from flask-cors) (2.2.2)\n",
      "Requirement already satisfied: flask>=0.9 in /Library/Frameworks/Python.framework/Versions/3.9/lib/python3.9/site-packages (from flask-cors) (2.2.2)\n",
      "Requirement already satisfied: click>=8.0 in /Library/Frameworks/Python.framework/Versions/3.9/lib/python3.9/site-packages (from flask>=0.9->flask-cors) (8.0.3)\n",
      "Requirement already satisfied: importlib-metadata>=3.6.0 in /Users/nimishsingh/Library/Python/3.9/lib/python/site-packages (from flask>=0.9->flask-cors) (7.1.0)\n",
      "Requirement already satisfied: Jinja2>=3.0 in /Library/Frameworks/Python.framework/Versions/3.9/lib/python3.9/site-packages (from flask>=0.9->flask-cors) (3.1.2)\n",
      "Requirement already satisfied: itsdangerous>=2.0 in /Library/Frameworks/Python.framework/Versions/3.9/lib/python3.9/site-packages (from flask>=0.9->flask-cors) (2.1.2)\n",
      "Requirement already satisfied: MarkupSafe>=2.1.1 in /Library/Frameworks/Python.framework/Versions/3.9/lib/python3.9/site-packages (from Werkzeug>=0.7->flask-cors) (2.1.1)\n",
      "Requirement already satisfied: zipp>=0.5 in /Users/nimishsingh/Library/Python/3.9/lib/python/site-packages (from importlib-metadata>=3.6.0->flask>=0.9->flask-cors) (3.18.1)\n",
      "Installing collected packages: flask-cors\n",
      "Successfully installed flask-cors-5.0.1\n",
      "\u001b[33mWARNING: You are using pip version 21.3.1; however, version 25.1.1 is available.\n",
      "You should consider upgrading via the '/Library/Frameworks/Python.framework/Versions/3.9/bin/python3 -m pip install --upgrade pip' command.\u001b[0m\n"
     ]
    }
   ],
   "source": [
    "pip install Flask\n",
    "pip install flask-cors # For Flask"
   ]
  },
  {
   "cell_type": "code",
   "execution_count": null,
   "metadata": {},
   "outputs": [],
   "source": [
    "from flask import Flask, request, jsonify\n",
    "from flask_cors import CORS\n",
    "from PIL import Image\n",
    "import io\n",
    "import base64\n",
    "import os\n",
    "# Choose which backend script to use\n",
    "# from general_backend import generate_images as backend_generate, controlnet_generate as backend_controlnet\n",
    "from portrait_backend import generate_images as backend_generate, controlnet_generate as backend_controlnet\n",
    "\n",
    "app = Flask(__name__)\n",
    "CORS(app)\n",
    "\n",
    "@app.route('/generate', methods=['POST'])\n",
    "def generate():\n",
    "    data = request.get_json()\n",
    "    prompt = data.get('prompt')\n",
    "    style = data.get('style', 'realism')\n",
    "\n",
    "    try:\n",
    "        images = backend_generate(prompt, style=style)\n",
    "        image_urls = []\n",
    "        for img in images:\n",
    "            buffered = io.BytesIO()\n",
    "            img.save(buffered, format=\"PNG\")\n",
    "            img_str = base64.b64encode(buffered.getvalue()).decode('utf-8')\n",
    "            image_urls.append(f\"data:image/png;base64,{img_str}\")\n",
    "        return jsonify({'images': image_urls})\n",
    "    except Exception as e:\n",
    "        return jsonify({'error': str(e)}), 500\n",
    "\n",
    "@app.route('/modify', methods=['POST'])\n",
    "def modify():\n",
    "    if 'image' not in request.files:\n",
    "        return jsonify({'error': 'No image uploaded'}), 400\n",
    "\n",
    "    image_file = request.files['image']\n",
    "    prompt = request.form.get('modPrompt')\n",
    "    model = request.form.get('model')\n",
    "\n",
    "    if not prompt or not model:\n",
    "        return jsonify({'error': 'Prompt and model are required'}), 400\n",
    "\n",
    "    try:\n",
    "        img = Image.open(image_file).convert(\"RGB\")\n",
    "        temp_path = \"/tmp/temp_image.png\" # Use /tmp for Colab\n",
    "        img.save(temp_path)\n",
    "        modified_image = backend_controlnet(temp_path, prompt, model)\n",
    "        os.remove(temp_path)\n",
    "\n",
    "        buffered = io.BytesIO()\n",
    "        modified_image.save(buffered, format=\"PNG\")\n",
    "        img_str = base64.b64encode(buffered.getvalue()).decode('utf-8')\n",
    "        image_url = f\"data:image/png;base64,{img_str}\"\n",
    "        return jsonify({'image': image_url})\n",
    "    except Exception as e:\n",
    "        return jsonify({'error': str(e)}), 500\n",
    "\n",
    "if __name__ == '__main__':\n",
    "    app.run(debug=True, host='0.0.0.0', port=5000)"
   ]
  },
  {
   "cell_type": "code",
   "execution_count": null,
   "metadata": {},
   "outputs": [],
   "source": [
    "!pip install pyngrok\n",
    "from pyngrok import ngrok"
   ]
  },
  {
   "cell_type": "code",
   "execution_count": null,
   "metadata": {},
   "outputs": [],
   "source": [
    "# Replace 'YOUR_NGROK_AUTHTOKEN' with your actual token (optional but recommended)\n",
    "ngrok.set_auth_token(\"YOUR_NGROK_AUTHTOKEN")\n",
    "\n",
    "port = 5000 # Or the port your Flask/FastAPI app is running on\n",
    "public_url = ngrok.connect(port).public_url\n",
    "print(f\"Colab backend running on: {public_url}\")"
   ]
  }
 ],
 "metadata": {
  "kernelspec": {
   "display_name": "Python 3",
   "language": "python",
   "name": "python3"
  },
  "language_info": {
   "codemirror_mode": {
    "name": "ipython",
    "version": 3
   },
   "file_extension": ".py",
   "mimetype": "text/x-python",
   "name": "python",
   "nbconvert_exporter": "python",
   "pygments_lexer": "ipython3",
   "version": "3.9.7"
  }
 },
 "nbformat": 4,
 "nbformat_minor": 2
}
